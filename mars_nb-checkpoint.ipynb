{
 "cells": [
  {
   "cell_type": "code",
   "execution_count": 1,
   "metadata": {},
   "outputs": [],
   "source": [
    "import requests\n",
    "from bs4 import BeautifulSoup\n",
    "import pandas as pd\n",
    "import numpy as np\n",
    "from splinter import Browser"
   ]
  },
  {
   "cell_type": "code",
   "execution_count": 3,
   "metadata": {},
   "outputs": [
    {
     "name": "stdout",
     "output_type": "stream",
     "text": [
      "\n",
      "\n",
      "NASA's Opportunity Rover Mission on Mars Comes to End\n",
      "\n",
      "\n",
      "\n",
      "NASA's Opportunity Mars rover mission is complete after 15 years on Mars. Opportunity's record-breaking exploration laid the groundwork for future missions to the Red Planet.\n",
      "\n"
     ]
    }
   ],
   "source": [
    "# NASA Mars News\n",
    "# pull page data\n",
    "url = 'https://mars.nasa.gov/news/'\n",
    "response = requests.get(url)\n",
    "soup = BeautifulSoup(response.text, 'html.parser')\n",
    "\n",
    "# collect the latest News Title and Paragraph Text\n",
    "Latest_News_Title = soup.find('div',class_='content_title').get_text()\n",
    "Latest_News_Paragraph = soup.find('div',class_='rollover_description_inner').get_text()\n",
    "print(Latest_News_Title)\n",
    "print(Latest_News_Paragraph)"
   ]
  },
  {
   "cell_type": "code",
   "execution_count": 4,
   "metadata": {},
   "outputs": [
    {
     "data": {
      "text/plain": [
       "'https://www.jpl.nasa.gov/spaceimages/images/mediumsize/PIA16726_ip.jpg'"
      ]
     },
     "execution_count": 4,
     "metadata": {},
     "output_type": "execute_result"
    }
   ],
   "source": [
    "# JPL Mars Space Images - Featured Image\n",
    "# pull page data\n",
    "url2 = \"https://www.jpl.nasa.gov/spaceimages/?search=&category=Mars\"\n",
    "response = requests.get(url2)\n",
    "soup = BeautifulSoup(response.text, 'html.parser')\n",
    "\n",
    "# collect the image link\n",
    "url = 'https://www.jpl.nasa.gov'\n",
    "image_path = soup.footer.a.get('data-fancybox-href')\n",
    "featured_image_url = url + image_path\n",
    "featured_image_url = url + image_path\n",
    "featured_image_url"
   ]
  },
  {
   "cell_type": "code",
   "execution_count": 5,
   "metadata": {},
   "outputs": [
    {
     "data": {
      "text/plain": [
       "'InSight sol 83 (2019-02-19) low -95.0ºC (-139.0ºF) high -11.7ºC (11.0ºF)\\nwinds from the SW at 4.1 m/s (9.2 mph) gusting to 10.5 m/s (23.6 mph)\\npressure at 7.20 hPa'"
      ]
     },
     "execution_count": 5,
     "metadata": {},
     "output_type": "execute_result"
    }
   ],
   "source": [
    "# Mars weather\n",
    "# Visit twitter\n",
    "url = \"https://twitter.com/marswxreport?lang=en\"\n",
    "response = requests.get(url)\n",
    "\n",
    "# Scrape the latest Mars weather tweet from the page\n",
    "soup = BeautifulSoup(response.text, 'html.parser')\n",
    "Tweet = soup.find_all('div', class_='js-tweet-text-container')[1]\n",
    "\n",
    "# Save the tweet text for the weather report\n",
    "weather = Tweet.text.strip()\n",
    "weather"
   ]
  },
  {
   "cell_type": "code",
   "execution_count": null,
   "metadata": {},
   "outputs": [],
   "source": [
    "# Collect Mars Facts and use Pandas to scrape the table containing facts about the planet\n",
    "# Visit Mars Facts page\n",
    "url4 = 'https://space-facts.com/mars/'\n",
    "\n",
    "# Scrape the Mars facts in table\n",
    "tables = pd.read_html(url4)\n",
    "df = tables[0]\n",
    "df.set_index(0, inplace=True)\n",
    "\n",
    "# Place in df and clean\n",
    "html_table = df.to_html()\n",
    "html_table = html_table.replace('\\n', '')\n",
    "\n",
    "# save as html in folder\n",
    "df.to_html('table.html')"
   ]
  },
  {
   "cell_type": "code",
   "execution_count": 6,
   "metadata": {},
   "outputs": [
    {
     "data": {
      "text/plain": [
       "['https://astropedia.astrogeology.usgs.gov/download/Mars/Viking/cerberus_enhanced.tif/full.jpg',\n",
       " 'https://astropedia.astrogeology.usgs.gov/download/Mars/Viking/schiaparelli_enhanced.tif/full.jpg',\n",
       " 'https://astropedia.astrogeology.usgs.gov/download/Mars/Viking/syrtis_major_enhanced.tif/full.jpg',\n",
       " 'https://astropedia.astrogeology.usgs.gov/download/Mars/Viking/valles_marineris_enhanced.tif/full.jpg']"
      ]
     },
     "execution_count": 6,
     "metadata": {},
     "output_type": "execute_result"
    }
   ],
   "source": [
    "# Mars Hemispheres\n",
    "# Obtain high resolution images for each of Mar's hemispheres\n",
    "# Visit page and get data\n",
    "url6 = \"https://astrogeology.usgs.gov/search/results?q=hemisphere+enhanced&k1=target&v1=Mars\"\n",
    "response = requests.get(url6)\n",
    "soup = BeautifulSoup(response.text, 'html.parser')\n",
    "\n",
    "# Set root and end path\n",
    "url = \"https://astropedia.astrogeology.usgs.gov/download/Mars/Viking/\"\n",
    "end = \".tif/full.jpg\"\n",
    "\n",
    "Mars_Hemispheres = []\n",
    "\n",
    "# Loop through the page and populate Mars_Hemi list\n",
    "for link in soup.find_all('div', class_=\"item\"):\n",
    "    path = link.a.get('href')\n",
    "    path2 = path.rsplit('/', 1)[-1]\n",
    "    Mars_Hemispheres.append(url + path2 + end)\n",
    "\n",
    "# Pull specific image    \n",
    "Cerberus_image_url = Mars_Hemispheres[0]\n",
    "Schiaparelli_image_url = Mars_Hemispheres[1]\n",
    "Syrtis_image_url = Mars_Hemispheres[2]\n",
    "Valles_marineris_image_url = Mars_Hemispheres[3]\n",
    "\n",
    "Mars_Hemispheres"
   ]
  },
  {
   "cell_type": "code",
   "execution_count": null,
   "metadata": {},
   "outputs": [],
   "source": []
  }
 ],
 "metadata": {
  "kernelspec": {
   "display_name": "Python 3",
   "language": "python",
   "name": "python3"
  },
  "language_info": {
   "codemirror_mode": {
    "name": "ipython",
    "version": 3
   },
   "file_extension": ".py",
   "mimetype": "text/x-python",
   "name": "python",
   "nbconvert_exporter": "python",
   "pygments_lexer": "ipython3",
   "version": "3.6.8"
  }
 },
 "nbformat": 4,
 "nbformat_minor": 2
}
